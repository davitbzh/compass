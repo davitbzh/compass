{
 "cells": [
  {
   "cell_type": "markdown",
   "id": "1bf8bd8f",
   "metadata": {},
   "source": [
    "## <span style=\"color:#ff5f27\">📝 Imports </span>"
   ]
  },
  {
   "cell_type": "code",
   "execution_count": null,
   "id": "67f5b9e9",
   "metadata": {},
   "outputs": [],
   "source": [
    "#!pip install -r requirements.txt -q"
   ]
  },
  {
   "cell_type": "code",
   "execution_count": null,
   "id": "a16e2909",
   "metadata": {},
   "outputs": [],
   "source": [
    "import os\n",
    "import pandas as pd\n",
    "\n",
    "import hopsworks\n",
    "\n",
    "from hsfs import embedding\n",
    "from hsfs.feature import Feature\n",
    "\n",
    "from openai import OpenAI\n",
    "from sentence_transformers import SentenceTransformer\n",
    "\n",
    "from dotenv import load_dotenv\n",
    "\n",
    "from pipelines.guidelines import get_reports_df\n",
    "from functions.pdf_preprocess import get_file_paths\n",
    "\n",
    "import config\n",
    "\n",
    "import warnings\n",
    "warnings.filterwarnings('ignore')"
   ]
  },
  {
   "cell_type": "code",
   "execution_count": null,
   "id": "05544b1f",
   "metadata": {},
   "outputs": [],
   "source": [
    "# Load the .env file\n",
    "load_dotenv()"
   ]
  },
  {
   "cell_type": "markdown",
   "id": "52a772f6",
   "metadata": {},
   "source": [
    "## <span style=\"color:#ff5f27\">💾 Download guidelines and extract text </span>"
   ]
  },
  {
   "cell_type": "code",
   "execution_count": null,
   "id": "d6fc79bb",
   "metadata": {},
   "outputs": [],
   "source": [
    "urls = get_file_paths(\"data\")"
   ]
  },
  {
   "cell_type": "code",
   "execution_count": null,
   "id": "9b42ca31",
   "metadata": {},
   "outputs": [],
   "source": [
    "ai_report_text_processed_df = get_reports_df(urls)"
   ]
  },
  {
   "cell_type": "code",
   "execution_count": null,
   "id": "ce072225",
   "metadata": {},
   "outputs": [],
   "source": [
    "ai_report_text_processed_df"
   ]
  },
  {
   "cell_type": "markdown",
   "id": "fde9a64c",
   "metadata": {},
   "source": [
    "## <span style=\"color:#ff5f27\">⚙️ Create Embeddings For semantic search </span>"
   ]
  },
  {
   "cell_type": "markdown",
   "id": "6ee599df",
   "metadata": {},
   "source": [
    "### AI report embeddings"
   ]
  },
  {
   "cell_type": "code",
   "execution_count": null,
   "id": "533f74b4",
   "metadata": {},
   "outputs": [],
   "source": [
    "# Load the SentenceTransformer model\n",
    "report_sentence_transformer = SentenceTransformer(\n",
    "    config.MODEL_SENTENCE_TRANSFORMER,\n",
    ").to(config.DEVICE)\n",
    "\n",
    "ai_report_text_processed_df = ai_report_text_processed_df.reset_index(drop=True)\n",
    "\n",
    "# Generate embeddings for the 'text' column using the SentenceTransformer model\n",
    "ai_report_text_processed_df['embeddings'] = pd.Series(\n",
    "    report_sentence_transformer.encode(ai_report_text_processed_df['text']).tolist(),\n",
    ")\n",
    "\n",
    "# Create a new column 'context_id' with values ranging from 0 to the number of rows in the DataFrame\n",
    "ai_report_text_processed_df['context_id'] = [*range(ai_report_text_processed_df.shape[0])]\n",
    "\n",
    "# Display the resulting DataFrame with the added 'embeddings' and 'context_id' columns\n",
    "ai_report_text_processed_df"
   ]
  },
  {
   "cell_type": "markdown",
   "id": "164d801b",
   "metadata": {},
   "source": [
    "## <span style=\"color:#ff5f27;\"> 🔮 Connecting to Hopsworks Feature Store </span>"
   ]
  },
  {
   "cell_type": "code",
   "execution_count": null,
   "id": "a598cea5",
   "metadata": {},
   "outputs": [],
   "source": [
    "project = hopsworks.login()\n",
    "fs = project.get_feature_store() "
   ]
  },
  {
   "cell_type": "markdown",
   "id": "60f980d7",
   "metadata": {},
   "source": [
    "## <span style=\"color:#ff5f27;\"> 🪄 Create Feature Groups  </span>"
   ]
  },
  {
   "cell_type": "markdown",
   "id": "0aa7424b",
   "metadata": {},
   "source": [
    "### Stanford AI reports feature group"
   ]
  },
  {
   "cell_type": "code",
   "execution_count": null,
   "id": "07ed9c0c",
   "metadata": {},
   "outputs": [],
   "source": [
    "# Create the Embedding Index\n",
    "administrative_protocols_emb = embedding.EmbeddingIndex()\n",
    "\n",
    "administrative_protocols_emb.add_embedding(\n",
    "    \"embeddings\", \n",
    "    report_sentence_transformer .get_sentence_embedding_dimension(),\n",
    ")"
   ]
  },
  {
   "cell_type": "code",
   "execution_count": null,
   "id": "93c80e8f",
   "metadata": {},
   "outputs": [],
   "source": [
    "administrative_protocols_features = [\n",
    "           Feature(name='name', type='string', online_type='varchar(100)'),\n",
    "           Feature(name='url', type='string', online_type='varchar(100)'),\n",
    "           Feature(name='source', type='string', online_type='varchar(100)'),\n",
    "           Feature(name='page_number', type='bigint', online_type='bigint'),\n",
    "           Feature(name='paragraph', type='bigint', online_type='bigint'),\n",
    "           Feature(name='text', type='string', online_type='VARCHAR(5900)'),\n",
    "           Feature(name='year', type='bigint', online_type='bigint'),\n",
    "           Feature(name='timestamp', type='timestamp', online_type='timestamp'),\n",
    "           Feature(name='embeddings', type='array<double>', online_type='varbinary(100)'),\n",
    "           Feature(name='context_id', type='bigint', online_type='bigint')\n",
    "]\n",
    "\n",
    "# Get or create the 'documents_fg' feature group\n",
    "administrative_protocols_fg = fs.get_or_create_feature_group(\n",
    "    name=\"administrative_protocols\",\n",
    "    version=1,\n",
    "    description='Medical and administrative protocols from a Swedish forensic psychiatric examination unit.',\n",
    "    primary_key=['context_id'],\n",
    "    online_enabled=True,\n",
    "    embedding_index=administrative_protocols_emb\n",
    ")\n",
    "\n",
    "if administrative_protocols_fg.id is None:\n",
    "    administrative_protocols_fg.save(administrative_protocols_features)\n",
    "administrative_protocols_fg.insert(ai_report_text_processed_df)"
   ]
  },
  {
   "cell_type": "code",
   "execution_count": null,
   "id": "591523d7",
   "metadata": {},
   "outputs": [],
   "source": [
    "# Define the features for user feedback\n",
    "user_feedback_features = [\n",
    "    Feature(name='feedback_id', type='string'),\n",
    "    Feature(name='user_query', type='string'),\n",
    "    Feature(name='assistant_response', type='string'),\n",
    "    Feature(name='like', type='string'),\n",
    "    Feature(name='feedback', type='string'),\n",
    "    Feature(name='session_id', type='string'),\n",
    "    Feature(name='timestamp', type='timestamp')\n",
    "]\n",
    "                \n",
    "# Create the feature group\n",
    "feedback_fg = fs.get_or_create_feature_group(\n",
    "    name=\"user_feedback\",\n",
    "    version=1,\n",
    "    description='User feedback on responses from the RMV assistant chatbot',\n",
    "    primary_key=['feedback_id'],\n",
    "    online_enabled=False,\n",
    "    stream=True\n",
    ")\n",
    "                \n",
    "# Save the feature definitions\n",
    "if feedback_fg.id is None:\n",
    "    feedback_fg.save(user_feedback_features)"
   ]
  },
  {
   "cell_type": "markdown",
   "id": "6aa13162",
   "metadata": {},
   "source": [
    "## <span style=\"color:#ff5f27;\">🪄 Create Feature Views </span>"
   ]
  },
  {
   "cell_type": "code",
   "execution_count": null,
   "id": "7ca5a8cd",
   "metadata": {},
   "outputs": [],
   "source": [
    "# Get or create the 'stanford_reports' feature view\n",
    "feature_view = fs.get_or_create_feature_view(\n",
    "    name=\"administrative_protocols\",\n",
    "    version=1,\n",
    "    description='Medical and administrative protocols from a Swedish forensic psychiatric examination unit for RAG system',\n",
    "    query=administrative_protocols_fg.select([\"name\", \"url\", \"source\", \"page_number\", \"paragraph\", \"text\", \"year\"]),\n",
    ")"
   ]
  },
  {
   "cell_type": "markdown",
   "id": "eebad97b",
   "metadata": {},
   "source": [
    "---"
   ]
  }
 ],
 "metadata": {
  "kernelspec": {
   "display_name": "Python",
   "language": "python",
   "name": "python3"
  },
  "language_info": {
   "codemirror_mode": {
    "name": "ipython",
    "version": 3
   },
   "file_extension": ".py",
   "mimetype": "text/x-python",
   "name": "python",
   "nbconvert_exporter": "python",
   "pygments_lexer": "ipython3",
   "version": "3.10.11"
  }
 },
 "nbformat": 4,
 "nbformat_minor": 5
}
